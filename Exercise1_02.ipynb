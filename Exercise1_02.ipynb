{
 "cells": [
  {
   "cell_type": "markdown",
   "metadata": {},
   "source": [
    "# Exercise 1.02: Creating an AI with Random Behavior for the Tic-Tac-Toe Game\n",
    "\n",
    "In this exercise, we'll create a framework for the tic-tac-toe game for experimentation. We will be modeling the game on the assumption that the AI player always starts the game. You will create a function that prints your internal representation, allows your opponent to enter a move randomly, and determines whether a player has won."
   ]
  },
  {
   "cell_type": "markdown",
   "metadata": {},
   "source": [
    "1.- We will import the choice function from the random library:"
   ]
  },
  {
   "cell_type": "code",
   "execution_count": 1,
   "metadata": {},
   "outputs": [],
   "source": [
    "import random \n"
   ]
  },
  {
   "cell_type": "markdown",
   "metadata": {},
   "source": [
    "2.- Model the nine cells in a simple string.\n",
    "\n",
    "  > **Note**  \n",
    "  > A nine-character long Python string stores these cells in the following order: `123456789`. Let's determine the index triples that must contain matching signs so that a player wins the game"
   ]
  },
  {
   "cell_type": "code",
   "execution_count": 2,
   "metadata": {},
   "outputs": [],
   "source": [
    "combinaciones_ganadoras = [\n",
    "    #horizontales\n",
    "    [1,2,3],\n",
    "    [4,5,6],\n",
    "    [7,8,9],\n",
    "    #verticales\n",
    "    [1,4,7],\n",
    "    [2,5,8],\n",
    "    [3,6,9],\n",
    "    #diagonales\n",
    "    [1,5,9],\n",
    "    [3,5,7]\n",
    "]"
   ]
  },
  {
   "cell_type": "markdown",
   "metadata": {},
   "source": [
    "3.- Define the sign constants for empty cells, the AI, and the opponent player"
   ]
  },
  {
   "cell_type": "code",
   "execution_count": 3,
   "metadata": {},
   "outputs": [],
   "source": [
    "signo_vacio='-'\n",
    "signo_ia= 'O'\n",
    "signo_jugador='X'"
   ]
  },
  {
   "cell_type": "markdown",
   "metadata": {},
   "source": [
    "4.- Create a function that prints a board.\n",
    "\n",
    "  > add an empty row before and after the board so that we can easily read the game state"
   ]
  },
  {
   "cell_type": "code",
   "execution_count": 4,
   "metadata": {},
   "outputs": [],
   "source": [
    "def tableroImprimir(tablero):\n",
    "    for i in range (1,8,3):\n",
    "        print(f\"{tablero[(i-1)]} {tablero[(i-1)+1]} {tablero[(i-1)+2]}\")\n",
    "    print(\"\\n\\n\")"
   ]
  },
  {
   "cell_type": "markdown",
   "metadata": {},
   "source": [
    "5.- Describe a move of the human player.\n",
    "\n",
    "  > **Note**  \n",
    "  > The input arguments are the boards, the row numbers from $1$ to $3$, and the column numbers from $1$ to $3$. The return value of this function is a board containing the new move"
   ]
  },
  {
   "cell_type": "code",
   "execution_count": 5,
   "metadata": {},
   "outputs": [],
   "source": [
    " def mov_jugador(tablero):\n",
    "    \n",
    "    salir=\"false\"\n",
    "    while salir==\"false\":\n",
    "        print(\"Ingrese numero de fila:\")\n",
    "        fila = int(input())\n",
    "        print(\"Ingrese numero de columna:\")\n",
    "        columna = int(input())\n",
    "        if fila==1:\n",
    "            fila=0\n",
    "        else:\n",
    "            if fila==2:\n",
    "                fila=3\n",
    "            else:\n",
    "                if fila==3:\n",
    "                    fila=6\n",
    "        posicion=int((fila+columna)-1)\n",
    "        if tablero[posicion]==signo_vacio:\n",
    "            tablero=tablero[:posicion]+signo_jugador+tablero[(posicion+1):]\n",
    "            salir=\"true\"\n",
    "        else:\n",
    "            print(\"\\nCasilla ocupada.\\n\")\n",
    "    return tablero"
   ]
  },
  {
   "cell_type": "markdown",
   "metadata": {},
   "source": [
    "6.- Define a random move on the part of the AI player. Generate all possible moves defining the  `all_moves_from_board` function, and then select a random move from the list of possible moves\n",
    "\n",
    "  >**Hints**  \n",
    "  >Defined a function called all_moves_from_board that goes through all the indexes on the board and checks whether they are empty (`v == EMPTY_SIGN`). If that's the case, this means that the move can be played and that the index has been added to a list of moves (`move_list`). Finally, we defined the `ai_move` function in order to randomly let the AI choose an index that is equal to a move in the game."
   ]
  },
  {
   "cell_type": "code",
   "execution_count": 6,
   "metadata": {},
   "outputs": [],
   "source": [
    "def mov_ia(tablero):\n",
    "    salir=\"false\"\n",
    "    while salir==\"false\":\n",
    "        elegir=\"012345678\"\n",
    "        posicion=int(random.choice(elegir))\n",
    "        if tablero[posicion]==signo_vacio:\n",
    "            #tablero[posicion]=signo_ia\n",
    "            tablero=tablero[:posicion]+signo_ia+tablero[(posicion+1):]\n",
    "            salir=\"true\"\n",
    "    return tablero\n"
   ]
  },
  {
   "cell_type": "markdown",
   "metadata": {},
   "source": [
    "7.- Determine whether a player has won the game.\n",
    "\n",
    "  > **Hints**  \n",
    "  > Define the `game_won_by` function, which checks whether the board contains a combo of three identical indexes from the `combo_indices` variable to end the game."
   ]
  },
  {
   "cell_type": "code",
   "execution_count": 7,
   "metadata": {},
   "outputs": [],
   "source": [
    "def game_won_by(tablero):\n",
    "    ganador=\"nadie\"\n",
    "    for i in combinaciones_ganadoras:\n",
    "        \n",
    "        if(tablero[int(i[0])-1]==tablero[int(i[1])-1] and tablero[int(i[0])-1]==tablero[int(i[2])-1] and tablero[int(i[0])-1]!=\"-\"):\n",
    "            if tablero[int(i[0])-1]==\"X\":\n",
    "                ganador=\"jugador\"\n",
    "            else:\n",
    "                ganador=\"ia\"\n",
    "        else:\n",
    "            if tablero.find(\"-\")<0 and ganador==\"nadie\":\n",
    "                ganador=\"empate\"\n",
    "    return ganador       "
   ]
  },
  {
   "cell_type": "markdown",
   "metadata": {},
   "source": [
    "8.- Finally, create a game loop so that we can test the interaction between the computer player and the human player.\n",
    "\n",
    "  > **Hints**  \n",
    "  >  * Conduct a brute-force search.\n",
    "  >  * Defined the function, which can be broken down into various parts. The first part is to initialize the board and fill it with empty signs (`board = EMPTY_SIGN * 9`). Then, we create a counter of the empty cell, which will help us to create a loop and determine the AI's turn.The second part is to create a function for the player and the AI engine to play the game against each other. As soon as one player makes a move, the `empty_cell_count` variable will decrease by $1$. The loop will keep going until either the `game_won_by` function finds a winner or there are no more possible moves on the board."
   ]
  },
  {
   "cell_type": "code",
   "execution_count": 8,
   "metadata": {},
   "outputs": [],
   "source": [
    "def game_loop():\n",
    "    ganador=\"nadie\"\n",
    "    tablero=\"---------\"\n",
    "    tableroImprimir(tablero)\n",
    "    while ganador==\"nadie\":\n",
    "        \n",
    "        tablero=mov_jugador(tablero)\n",
    "        print(\"\\nJugador ha movido:\")\n",
    "        tableroImprimir(tablero)\n",
    "        ganador=game_won_by(tablero)\n",
    "        \n",
    "        if ganador==\"nadie\":\n",
    "            tablero=mov_ia(tablero)\n",
    "            print(\"\\nIA ha movido:\")\n",
    "            tableroImprimir(tablero)\n",
    "        \n",
    "        ganador=game_won_by(tablero)\n",
    "        \n",
    "        if ganador!=\"nadie\" and ganador!=\"empate\":\n",
    "           print(f\"Ganador: {ganador}\")\n",
    "        if ganador==\"empate\":\n",
    "           print(\"El juego termino en empate\")\n",
    "     "
   ]
  },
  {
   "cell_type": "markdown",
   "metadata": {},
   "source": [
    "9.- Use the `game_loop` function to run the game"
   ]
  },
  {
   "cell_type": "code",
   "execution_count": 9,
   "metadata": {},
   "outputs": [
    {
     "name": "stdout",
     "output_type": "stream",
     "text": [
      "- - -\n",
      "- - -\n",
      "- - -\n",
      "\n",
      "\n",
      "\n",
      "Ingrese numero de fila:\n",
      "1\n",
      "Ingrese numero de columna:\n",
      "2\n",
      "\n",
      "Jugador ha movido:\n",
      "- X -\n",
      "- - -\n",
      "- - -\n",
      "\n",
      "\n",
      "\n",
      "\n",
      "IA ha movido:\n",
      "- X -\n",
      "O - -\n",
      "- - -\n",
      "\n",
      "\n",
      "\n",
      "Ingrese numero de fila:\n",
      "3\n",
      "Ingrese numero de columna:\n",
      "3\n",
      "\n",
      "Jugador ha movido:\n",
      "- X -\n",
      "O - -\n",
      "- - X\n",
      "\n",
      "\n",
      "\n",
      "\n",
      "IA ha movido:\n",
      "- X -\n",
      "O O -\n",
      "- - X\n",
      "\n",
      "\n",
      "\n",
      "Ingrese numero de fila:\n",
      "2\n",
      "Ingrese numero de columna:\n",
      "3\n",
      "\n",
      "Jugador ha movido:\n",
      "- X -\n",
      "O O X\n",
      "- - X\n",
      "\n",
      "\n",
      "\n",
      "\n",
      "IA ha movido:\n",
      "- X O\n",
      "O O X\n",
      "- - X\n",
      "\n",
      "\n",
      "\n",
      "Ingrese numero de fila:\n",
      "3\n",
      "Ingrese numero de columna:\n",
      "1\n",
      "\n",
      "Jugador ha movido:\n",
      "- X O\n",
      "O O X\n",
      "X - X\n",
      "\n",
      "\n",
      "\n",
      "\n",
      "IA ha movido:\n",
      "- X O\n",
      "O O X\n",
      "X O X\n",
      "\n",
      "\n",
      "\n",
      "Ingrese numero de fila:\n",
      "1\n",
      "Ingrese numero de columna:\n",
      "1\n",
      "\n",
      "Jugador ha movido:\n",
      "X X O\n",
      "O O X\n",
      "X O X\n",
      "\n",
      "\n",
      "\n",
      "El juego termino en empate\n"
     ]
    }
   ],
   "source": [
    "game_loop()"
   ]
  },
  {
   "cell_type": "code",
   "execution_count": null,
   "metadata": {},
   "outputs": [],
   "source": []
  }
 ],
 "metadata": {
  "kernelspec": {
   "display_name": "Python 3",
   "language": "python",
   "name": "python3"
  },
  "language_info": {
   "codemirror_mode": {
    "name": "ipython",
    "version": 3
   },
   "file_extension": ".py",
   "mimetype": "text/x-python",
   "name": "python",
   "nbconvert_exporter": "python",
   "pygments_lexer": "ipython3",
   "version": "3.8.5"
  }
 },
 "nbformat": 4,
 "nbformat_minor": 4
}
